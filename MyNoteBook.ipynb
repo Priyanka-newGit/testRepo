{
  "metadata": {
    "language_info": {
      "codemirror_mode": {
        "name": "python",
        "version": 3
      },
      "file_extension": ".py",
      "mimetype": "text/x-python",
      "name": "python",
      "nbconvert_exporter": "python",
      "pygments_lexer": "ipython3",
      "version": "3.8"
    },
    "kernelspec": {
      "name": "python",
      "display_name": "Pyolite",
      "language": "python"
    }
  },
  "nbformat_minor": 4,
  "nbformat": 4,
  "cells": [
    {
      "cell_type": "markdown",
      "source": "  # My Jupyter Notebook on IBM Watson Studio",
      "metadata": {}
    },
    {
      "cell_type": "markdown",
      "source": "<b>Name Priyanka</b> <br>\nOccupation Software Developer",
      "metadata": {}
    },
    {
      "cell_type": "markdown",
      "source": "<i>I like creating visulaization Dashbords and working with data and functional roles which involves more client or Business interaction <\\i>",
      "metadata": {}
    },
    {
      "cell_type": "markdown",
      "source": "### Add two numbers",
      "metadata": {}
    },
    {
      "cell_type": "code",
      "source": "2 + 3",
      "metadata": {
        "trusted": true
      },
      "execution_count": 5,
      "outputs": [
        {
          "execution_count": 5,
          "output_type": "execute_result",
          "data": {
            "text/plain": "5"
          },
          "metadata": {}
        }
      ]
    },
    {
      "cell_type": "markdown",
      "source": "#Horizontal line\n---\n#Ordered List\n<ol>\n<li>Fish</li>\n<li>Eggs</li>\n<li>Milk</li>\n</ol>\n",
      "metadata": {}
    },
    {
      "cell_type": "markdown",
      "source": "#links <br>\n<a id = \"Division_ID\">My notebook</a>",
      "metadata": {}
    },
    {
      "cell_type": "markdown",
      "source": "<a href = \"https://www.google.co.in\">Google</a>\n",
      "metadata": {}
    },
    {
      "cell_type": "code",
      "source": "#Table",
      "metadata": {
        "trusted": true
      },
      "execution_count": 7,
      "outputs": []
    },
    {
      "cell_type": "markdown",
      "source": "<table>\n<tr>\n<th>Name</th>\n<th>age</th>\n<th>city</th>\n</tr>\n<tr>\n<th>Priya</th>\n<th>27</th>\n<th>Bangalore</th>\n</tr>\n<tr>\n<th>Alaya</th>\n<th>15</th>\n<th>Mysore</th>\n</tr>\n</table>",
      "metadata": {}
    },
    {
      "cell_type": "code",
      "source": "#images",
      "metadata": {
        "trusted": true
      },
      "execution_count": 8,
      "outputs": []
    },
    {
      "cell_type": "markdown",
      "source": "<img> <src = \"https://www.dreamstime.com/stock-photo-autumn-fall-nature-scene-autumnal-park-beautiful-image77869343\">",
      "metadata": {}
    },
    {
      "cell_type": "code",
      "source": "",
      "metadata": {},
      "execution_count": null,
      "outputs": []
    }
  ]
}